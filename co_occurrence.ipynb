{
 "cells": [
  {
   "cell_type": "code",
   "execution_count": 1,
   "metadata": {},
   "outputs": [],
   "source": [
    "import jieba\n",
    "import os\n",
    "import re\n",
    "import numpy as np\n",
    "import jieba.posseg as psg\n",
    "import networkx as nx\n",
    "import pandas as pd\n",
    "os.chdir(\"C:/Users/cjm34/Desktop/co_occurrence_net\")"
   ]
  },
  {
   "cell_type": "code",
   "execution_count": 2,
   "metadata": {},
   "outputs": [],
   "source": [
    "def get_stop_dict(file):\n",
    "    content = open(file,encoding=\"utf-8\")\n",
    "    word_list = []\n",
    "    for c in content:\n",
    "        c = re.sub('\\n|\\r','',c)\n",
    "        word_list.append(c)\n",
    "    return word_list"
   ]
  },
  {
   "cell_type": "code",
   "execution_count": 3,
   "metadata": {},
   "outputs": [],
   "source": [
    "def get_data(path):\n",
    "    t = open(path,encoding=\"utf-8\")\n",
    "    data = t.read()\n",
    "    t.close()\n",
    "    return data"
   ]
  },
  {
   "cell_type": "code",
   "execution_count": 4,
   "metadata": {},
   "outputs": [],
   "source": [
    "def get_wordlist(text,maxn,synonym_words,stop_words):\n",
    "    synonym_origin = list(synonym_words['origin'])\n",
    "    synonym_new = list(synonym_words['new'])\n",
    "    flag_list = ['n','nz','vn']#a,形容词，v,形容词\n",
    "    counts={}\n",
    "    \n",
    "    \n",
    "    text_seg = psg.cut(text)\n",
    "    for word_flag in text_seg:\n",
    "        #word = re.sub(\"[^\\u4e00-\\u9fa5]\",\"\",word_flag.word)\n",
    "        word = word_flag.word\n",
    "        if word_flag.flag in flag_list and len(word)>1 and word not in stop_words:\n",
    "            if word in synonym_origin:\n",
    "                index = synonym_origin.index(word)\n",
    "                word = synonym_new[index]\n",
    "            counts[word]=counts.get(word,0)+1\n",
    "            \n",
    "    \n",
    "    words= sorted(counts.items(),key=lambda x:x[1],reverse=True)\n",
    "    words= list(dict(words).keys())[0:maxn]\n",
    "    \n",
    "    return words"
   ]
  },
  {
   "cell_type": "code",
   "execution_count": 5,
   "metadata": {},
   "outputs": [],
   "source": [
    "def get_t_seg(topwords,text,synonym_words,stop_words):\n",
    "    synonym_origin = list(synonym_words['origin'])\n",
    "    synonym_new = list(synonym_words['new'])\n",
    "    flag_list = ['n','nz','vn']#a,形容词，v,形容词\n",
    "    \n",
    "    text_lines_seg =[]\n",
    "    text_lines = text.split(\"\\n\")\n",
    "    for line in text_lines:\n",
    "        t_seg = []\n",
    "        text_seg = psg.cut(line)\n",
    "        for word_flag in text_seg:\n",
    "            #word = re.sub(\"[^\\u4e00-\\u9fa5]\",\"\",word_flag.word)\n",
    "            word = word_flag.word\n",
    "            if word_flag.flag in flag_list and len(word)>1 and word not in stop_words:\n",
    "                if word in synonym_origin:\n",
    "                    word = synonym_new[synonym_origin.index(word)]\n",
    "                if word in topwords:\n",
    "                    t_seg.append(word)\n",
    "        t_seg=list(set(t_seg))\n",
    "        text_lines_seg.append(t_seg)\n",
    "    return text_lines_seg"
   ]
  },
  {
   "cell_type": "code",
   "execution_count": 6,
   "metadata": {},
   "outputs": [],
   "source": [
    "def get_comatrix(text_lines_seg):\n",
    "    comatrix = pd.DataFrame(np.zeros([len(topwords),len(topwords)]),columns=topwords,index=topwords)\n",
    "    for t_seg in text_lines_seg:\n",
    "        for i in range(len(t_seg)-1):\n",
    "                for j in range(i+1,len(t_seg)):\n",
    "                    comatrix.loc[t_seg[i],t_seg[j]]+=1\n",
    "    for k in range(len(comatrix)):\n",
    "        comatrix.iloc[k,k]=0\n",
    "    return comatrix"
   ]
  },
  {
   "cell_type": "code",
   "execution_count": 7,
   "metadata": {},
   "outputs": [],
   "source": [
    "def get_net(co_matrix,topwords):\n",
    "    g = nx.Graph()\n",
    "    for i in range(len(topwords)-1):\n",
    "        word = topwords[i]\n",
    "        for j in range(i+1,len(topwords)):\n",
    "            w=0\n",
    "            word2 = topwords[j]\n",
    "            w = co_matrix.loc[word][word2]+co_matrix.loc[word2][word]\n",
    "            if w>0:\n",
    "                g.add_edge(word,word2,weight=w)\n",
    "    return g"
   ]
  },
  {
   "cell_type": "code",
   "execution_count": 8,
   "metadata": {},
   "outputs": [],
   "source": [
    "#文件路径\n",
    "dic_file = \"./stop_dic/dict.txt\"\n",
    "stop_file = \"./stop_dic/stopwords.txt\"\n",
    "data_path = \"./data/before.csv\"\n",
    "synonym_file = \"./stop_dic/synonym_list.xlsx\""
   ]
  },
  {
   "cell_type": "code",
   "execution_count": 9,
   "metadata": {},
   "outputs": [
    {
     "name": "stderr",
     "output_type": "stream",
     "text": [
      "Building prefix dict from the default dictionary ...\n",
      "Loading model from cache C:\\Users\\cjm34\\AppData\\Local\\Temp\\jieba.cache\n",
      "Loading model cost 0.385 seconds.\n",
      "Prefix dict has been built successfully.\n"
     ]
    }
   ],
   "source": [
    "#读取文件\n",
    "data = get_data(data_path)\n",
    "stop_words = get_stop_dict(stop_file)\n",
    "jieba.load_userdict(dic_file)\n",
    "synonym_words = pd.read_excel(synonym_file)"
   ]
  },
  {
   "cell_type": "code",
   "execution_count": 10,
   "metadata": {},
   "outputs": [],
   "source": [
    "#数据处理\n",
    "n_topwords=200\n",
    "topwords = get_wordlist(data,n_topwords,synonym_words,stop_words)\n",
    "t_segs = get_t_seg(topwords,data,synonym_words,stop_words)"
   ]
  },
  {
   "cell_type": "code",
   "execution_count": 11,
   "metadata": {},
   "outputs": [],
   "source": [
    "co_matrix = get_comatrix(t_segs)\n",
    "co_net =get_net(co_matrix,topwords)"
   ]
  },
  {
   "cell_type": "code",
   "execution_count": 12,
   "metadata": {},
   "outputs": [],
   "source": [
    "nx.write_gexf(co_net,\"./result/word_before.gexf\")"
   ]
  },
  {
   "cell_type": "code",
   "execution_count": null,
   "metadata": {},
   "outputs": [],
   "source": []
  }
 ],
 "metadata": {
  "kernelspec": {
   "display_name": "Python 3 (ipykernel)",
   "language": "python",
   "name": "python3"
  },
  "language_info": {
   "codemirror_mode": {
    "name": "ipython",
    "version": 3
   },
   "file_extension": ".py",
   "mimetype": "text/x-python",
   "name": "python",
   "nbconvert_exporter": "python",
   "pygments_lexer": "ipython3",
   "version": "3.9.12"
  },
  "toc": {
   "base_numbering": 1,
   "nav_menu": {},
   "number_sections": true,
   "sideBar": true,
   "skip_h1_title": false,
   "title_cell": "Table of Contents",
   "title_sidebar": "Contents",
   "toc_cell": false,
   "toc_position": {},
   "toc_section_display": true,
   "toc_window_display": false
  }
 },
 "nbformat": 4,
 "nbformat_minor": 2
}
