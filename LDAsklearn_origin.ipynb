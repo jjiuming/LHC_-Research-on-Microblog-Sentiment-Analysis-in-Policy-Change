{
 "cells": [
  {
   "cell_type": "markdown",
   "metadata": {},
   "source": [
    "# sklearn-LDA"
   ]
  },
  {
   "cell_type": "markdown",
   "metadata": {},
   "source": [
    "## 1.预处理"
   ]
  },
  {
   "cell_type": "code",
   "execution_count": 1,
   "metadata": {},
   "outputs": [],
   "source": [
    "import os\n",
    "import pandas as pd\n",
    "import re\n",
    "import jieba\n",
    "import jieba.posseg as psg"
   ]
  },
  {
   "cell_type": "code",
   "execution_count": 2,
   "metadata": {},
   "outputs": [],
   "source": [
    "output_path = 'C:/Users/cjm34/Desktop/lda/result'\n",
    "file_path = 'C:/Users/cjm34/Desktop/lda/data'\n",
    "os.chdir(file_path)\n",
    "data=pd.read_excel(\"after.xlsx\")#content type\n",
    "os.chdir(output_path)\n",
    "dic_file = \"C:/Users/cjm34/Desktop/lda/stop_dic/dict.txt\"\n",
    "stop_file = \"C:/Users/cjm34/Desktop/lda/stop_dic/stopwords.txt\""
   ]
  },
  {
   "cell_type": "code",
   "execution_count": 3,
   "metadata": {},
   "outputs": [],
   "source": [
    "def chinese_word_cut(mytext):\n",
    "    jieba.load_userdict(dic_file)\n",
    "    jieba.initialize()\n",
    "    try:\n",
    "        stopword_list = open(stop_file,encoding ='utf-8')\n",
    "    except:\n",
    "        stopword_list = []\n",
    "        print(\"error in stop_file\")\n",
    "    stop_list = []\n",
    "    flag_list = ['n','nz','vn']\n",
    "    for line in stopword_list:\n",
    "        line = re.sub(u'\\n|\\\\r', '', line)\n",
    "        stop_list.append(line)\n",
    "    \n",
    "    word_list = []\n",
    "    #jieba分词\n",
    "    seg_list = psg.cut(mytext)\n",
    "    for seg_word in seg_list:\n",
    "        word = re.sub(u'[^\\u4e00-\\u9fa5]','',seg_word.word)\n",
    "        #word = seg_word.word  #如果想要分析英语文本，注释这行代码，启动下行代码\n",
    "        find = 0\n",
    "        for stop_word in stop_list:\n",
    "            if stop_word == word or len(word)<2:     #this word is stopword\n",
    "                    find = 1\n",
    "                    break\n",
    "        if find == 0 and seg_word.flag in flag_list:\n",
    "            word_list.append(word)      \n",
    "    return (\" \").join(word_list)"
   ]
  },
  {
   "cell_type": "code",
   "execution_count": 4,
   "metadata": {},
   "outputs": [
    {
     "name": "stderr",
     "output_type": "stream",
     "text": [
      "Building prefix dict from the default dictionary ...\n",
      "Loading model from cache C:\\Users\\cjm34\\AppData\\Local\\Temp\\jieba.cache\n",
      "Loading model cost 0.364 seconds.\n",
      "Prefix dict has been built successfully.\n"
     ]
    }
   ],
   "source": [
    "data[\"content_cutted\"] = data.content.apply(chinese_word_cut)"
   ]
  },
  {
   "cell_type": "markdown",
   "metadata": {},
   "source": [
    "## 2.LDA分析"
   ]
  },
  {
   "cell_type": "code",
   "execution_count": 5,
   "metadata": {},
   "outputs": [],
   "source": [
    "from sklearn.feature_extraction.text import TfidfVectorizer, CountVectorizer\n",
    "from sklearn.decomposition import LatentDirichletAllocation"
   ]
  },
  {
   "cell_type": "code",
   "execution_count": 6,
   "metadata": {},
   "outputs": [],
   "source": [
    "def print_top_words(model, feature_names, n_top_words):\n",
    "    tword = []\n",
    "    for topic_idx, topic in enumerate(model.components_):\n",
    "        print(\"Topic #%d:\" % topic_idx)\n",
    "        topic_w = \" \".join([feature_names[i] for i in topic.argsort()[:-n_top_words - 1:-1]])\n",
    "        tword.append(topic_w)\n",
    "        print(topic_w)\n",
    "    return tword"
   ]
  },
  {
   "cell_type": "code",
   "execution_count": 7,
   "metadata": {},
   "outputs": [],
   "source": [
    "n_features = 1000 #提取1000个特征词语\n",
    "tf_vectorizer = CountVectorizer(strip_accents = 'unicode',\n",
    "                                max_features=n_features,\n",
    "                                stop_words='english',\n",
    "                                max_df = 0.5,\n",
    "                                min_df = 10)\n",
    "tf = tf_vectorizer.fit_transform(data.content_cutted)"
   ]
  },
  {
   "cell_type": "code",
   "execution_count": 8,
   "metadata": {},
   "outputs": [
    {
     "data": {
      "text/plain": [
       "LatentDirichletAllocation(learning_offset=50, max_iter=50, n_components=2,\n",
       "                          random_state=0)"
      ]
     },
     "execution_count": 8,
     "metadata": {},
     "output_type": "execute_result"
    }
   ],
   "source": [
    "n_topics = 2\n",
    "lda = LatentDirichletAllocation(n_components=n_topics, max_iter=50,\n",
    "                                learning_method='batch',\n",
    "                                learning_offset=50,\n",
    "#                                 doc_topic_prior=0.1,  #α\n",
    "#                                 topic_word_prior=0.01,    #β\n",
    "                               random_state=0)\n",
    "lda.fit(tf)"
   ]
  },
  {
   "cell_type": "markdown",
   "metadata": {},
   "source": [
    "### 2.1输出每个主题对应词语 "
   ]
  },
  {
   "cell_type": "code",
   "execution_count": 9,
   "metadata": {},
   "outputs": [
    {
     "name": "stdout",
     "output_type": "stream",
     "text": [
      "Topic #0:\n",
      "症状 口罩 医院 抗原 孩子 核酸 感觉 身体 视频 生活 结果 老人 朋友 新冠 居家\n",
      "Topic #1:\n",
      "新冠 病毒 国家 防控 政策 防疫 经济 核酸 管控 问题 影响 生活 政府 原因 情况\n"
     ]
    },
    {
     "name": "stderr",
     "output_type": "stream",
     "text": [
      "D:\\Anaconda3\\lib\\site-packages\\sklearn\\utils\\deprecation.py:87: FutureWarning: Function get_feature_names is deprecated; get_feature_names is deprecated in 1.0 and will be removed in 1.2. Please use get_feature_names_out instead.\n",
      "  warnings.warn(msg, category=FutureWarning)\n"
     ]
    }
   ],
   "source": [
    "n_top_words = 15\n",
    "tf_feature_names = tf_vectorizer.get_feature_names()\n",
    "topic_word = print_top_words(lda, tf_feature_names, n_top_words)"
   ]
  },
  {
   "cell_type": "markdown",
   "metadata": {},
   "source": [
    "### 2.2输出每篇文章对应主题 "
   ]
  },
  {
   "cell_type": "code",
   "execution_count": 10,
   "metadata": {},
   "outputs": [],
   "source": [
    "import numpy as np"
   ]
  },
  {
   "cell_type": "code",
   "execution_count": 11,
   "metadata": {},
   "outputs": [],
   "source": [
    "topics=lda.transform(tf)"
   ]
  },
  {
   "cell_type": "code",
   "execution_count": 12,
   "metadata": {},
   "outputs": [],
   "source": [
    "topic = []\n",
    "for t in topics:\n",
    "    topic.append(\"Topic #\"+str(list(t).index(np.max(t))))\n",
    "data['概率最大的主题序号']=topic\n",
    "data['每个主题对应概率']=list(topics)\n",
    "data.to_excel(\"data_topic.xlsx\",index=False)"
   ]
  },
  {
   "cell_type": "markdown",
   "metadata": {},
   "source": [
    "### 2.3可视化 "
   ]
  },
  {
   "cell_type": "code",
   "execution_count": 13,
   "metadata": {},
   "outputs": [],
   "source": [
    "import pyLDAvis\n",
    "import pyLDAvis.sklearn"
   ]
  },
  {
   "cell_type": "code",
   "execution_count": 14,
   "metadata": {},
   "outputs": [
    {
     "name": "stderr",
     "output_type": "stream",
     "text": [
      "D:\\Anaconda3\\lib\\site-packages\\sklearn\\utils\\deprecation.py:87: FutureWarning: Function get_feature_names is deprecated; get_feature_names is deprecated in 1.0 and will be removed in 1.2. Please use get_feature_names_out instead.\n",
      "  warnings.warn(msg, category=FutureWarning)\n",
      "C:\\Users\\cjm34\\AppData\\Roaming\\Python\\Python39\\site-packages\\pyLDAvis\\_prepare.py:246: FutureWarning: In a future version of pandas all arguments of DataFrame.drop except for the argument 'labels' will be keyword-only.\n",
      "  default_term_info = default_term_info.sort_values(\n"
     ]
    },
    {
     "data": {
      "text/html": [
       "\n",
       "<link rel=\"stylesheet\" type=\"text/css\" href=\"https://cdn.jsdelivr.net/gh/bmabey/pyLDAvis@3.3.1/pyLDAvis/js/ldavis.v1.0.0.css\">\n",
       "\n",
       "\n",
       "<div id=\"ldavis_el1802819143534906243146200628\"></div>\n",
       "<script type=\"text/javascript\">\n",
       "\n",
       "var ldavis_el1802819143534906243146200628_data = {\"mdsDat\": {\"x\": [0.19235046546250265, -0.19235046546250265], \"y\": [0.0, 0.0], \"topics\": [1, 2], \"cluster\": [1, 1], \"Freq\": [51.33428529732432, 48.66571470267568]}, \"tinfo\": {\"Term\": [\"\\u56fd\\u5bb6\", \"\\u75c7\\u72b6\", \"\\u53e3\\u7f69\", \"\\u9632\\u63a7\", \"\\u653f\\u7b56\", \"\\u7ecf\\u6d4e\", \"\\u6297\\u539f\", \"\\u5b69\\u5b50\", \"\\u75c5\\u6bd2\", \"\\u533b\\u9662\", \"\\u611f\\u89c9\", \"\\u5f71\\u54cd\", \"\\u65b0\\u51a0\", \"\\u89c6\\u9891\", \"\\u8eab\\u4f53\", \"\\u9632\\u75ab\", \"\\u5c45\\u5bb6\", \"\\u653f\\u5e9c\", \"\\u56de\\u5bb6\", \"\\u5988\\u5988\", \"\\u670b\\u53cb\", \"\\u6570\\u636e\", \"\\u793e\\u4f1a\", \"\\u540c\\u4e8b\", \"\\u5bb6\\u4eba\", \"\\u9000\\u70e7\\u836f\", \"\\u5e02\\u573a\", \"\\u8c03\\u6574\", \"\\u72b6\\u6001\", \"\\u6709\\u70b9\", \"\\u75c7\\u72b6\", \"\\u5b69\\u5b50\", \"\\u6297\\u539f\", \"\\u53e3\\u7f69\", \"\\u611f\\u89c9\", \"\\u89c6\\u9891\", \"\\u5988\\u5988\", \"\\u56de\\u5bb6\", \"\\u540c\\u4e8b\", \"\\u5c45\\u5bb6\", \"\\u5bb6\\u4eba\", \"\\u8eab\\u4f53\", \"\\u5b66\\u6821\", \"\\u836f\\u5e97\", \"\\u55d3\\u5b50\", \"\\u5c0f\\u65f6\", \"\\u6709\\u70b9\", \"\\u533b\\u751f\", \"\\u6d51\\u8eab\", \"\\u751f\\u75c5\", \"\\u5355\\u4f4d\", \"\\u516c\\u53f8\", \"\\u72b6\\u6001\", \"\\u793e\\u533a\", \"\\u7238\\u7238\", \"\\u5c0f\\u5b69\", \"\\u611f\\u5192\\u836f\", \"\\u9152\\u7cbe\", \"\\u8bd5\\u5242\", \"\\u5458\\u5de5\", \"\\u533b\\u9662\", \"\\u670b\\u53cb\", \"\\u9000\\u70e7\\u836f\", \"\\u514d\\u75ab\\u529b\", \"\\u8f7b\\u75c7\", \"\\u7ed3\\u679c\", \"\\u65e5\\u5b50\", \"\\u8001\\u4eba\", \"\\u7ecf\\u5386\", \"\\u9633\\u6027\", \"\\u5de5\\u4f5c\", \"\\u65f6\\u95f4\", \"\\u6838\\u9178\", \"\\u751f\\u6d3b\", \"\\u836f\\u54c1\", \"\\u65b0\\u51a0\", \"\\u5168\\u9762\", \"\\u56fd\\u5bb6\", \"\\u7ecf\\u6d4e\", \"\\u5f71\\u54cd\", \"\\u6570\\u636e\", \"\\u653f\\u5e9c\", \"\\u653f\\u7b56\", \"\\u6d88\\u8d39\", \"\\u5e02\\u573a\", \"\\u8c03\\u6574\", \"\\u5168\\u6c11\", \"\\u4eba\\u6c11\", \"\\u751f\\u547d\", \"\\u8001\\u5e74\\u4eba\", \"\\u8eba\\u5e73\", \"\\u5927\\u76d8\", \"\\u8d70\\u52bf\", \"\\u53d1\\u5c55\", \"\\u63aa\\u65bd\", \"\\u673a\\u4f1a\", \"\\u65b0\\u95fb\", \"\\u51b2\\u51fb\", \"\\u80a1\\u7968\", \"\\u80a1\\u5e02\", \"\\u60c5\\u7eea\", \"\\u6c11\\u4f17\", \"\\u6708\\u4efd\", \"\\u53d8\\u5f02\", \"\\u6bd2\\u6027\", \"\\u5bb6\\u5ead\", \"\\u793e\\u4f1a\", \"\\u611f\\u67d3\\u8005\", \"\\u9632\\u63a7\", \"\\u4eba\\u6570\", \"\\u4eba\\u7c7b\", \"\\u9632\\u75ab\", \"\\u75c5\\u6bd2\", \"\\u57fa\\u672c\", \"\\u65b0\\u51a0\", \"\\u75ab\\u82d7\", \"\\u95ee\\u9898\", \"\\u539f\\u56e0\", \"\\u7ba1\\u63a7\", \"\\u5168\\u56fd\", \"\\u533b\\u7597\", \"\\u4f20\\u64ad\", \"\\u8001\\u767e\\u59d3\", \"\\u6838\\u9178\", \"\\u60c5\\u51b5\", \"\\u751f\\u6d3b\", \"\\u5168\\u9762\", \"\\u65f6\\u95f4\"], \"Freq\": [188.0, 171.0, 152.0, 161.0, 118.0, 105.0, 111.0, 101.0, 258.0, 114.0, 89.0, 77.0, 305.0, 81.0, 83.0, 125.0, 72.0, 65.0, 69.0, 66.0, 77.0, 58.0, 62.0, 61.0, 60.0, 67.0, 50.0, 48.0, 54.0, 53.0, 170.37022881327033, 100.93952590560016, 110.52026875826482, 151.73040638937877, 89.25432325772118, 80.61118104538356, 66.19347681632945, 69.04490149824534, 61.31638605456608, 71.79681678810822, 60.29646584506678, 82.23001631165796, 48.703903398639945, 43.91409955784418, 40.06968263531209, 41.969882824980125, 52.46173662545086, 48.63208500390367, 36.22917009886808, 39.080916177349046, 44.78081681585433, 47.63845752178779, 53.352058912386674, 36.117797330962354, 28.47223239268851, 28.471299334898937, 28.45231479858643, 25.603990471588872, 29.39315819631896, 26.533455079313143, 111.03597099824643, 75.05330700255398, 65.2241909753878, 33.99884364965026, 33.92090983512787, 78.12828083192568, 38.04999290524519, 78.02390157385527, 55.30548616284675, 69.12703584076716, 68.72545587556972, 71.36005988747027, 93.26344900247398, 78.44629960339263, 48.12966385985662, 73.0436032476327, 51.70093977710179, 188.3323342382077, 105.21334488725904, 76.67036394852462, 58.198143801298414, 64.95780226635475, 117.25252596321022, 45.506502241949214, 50.31173030446447, 48.321646555469776, 45.4061467516901, 42.455382409968266, 38.57504330748803, 35.67892064407425, 33.72281438939635, 28.8739885012763, 28.860736371743325, 38.470439936708495, 40.376839471157055, 40.371271322421364, 27.861347980666356, 28.78583491228096, 22.997219122694016, 22.993055186947547, 24.90512192419288, 26.817362141098208, 29.690140937605804, 22.976581822986926, 24.888830736146623, 34.4591148829771, 61.2471596814656, 29.539047384749658, 151.1794856948627, 28.599742150209195, 26.714353621989293, 112.2595899034458, 210.85463615918357, 63.349349246763076, 232.50750377947847, 62.125057532212566, 79.46996633190292, 64.20683727424053, 81.96755275108761, 54.97530803346427, 52.61948425842827, 40.66289791085976, 45.331354912134124, 92.56572506812203, 63.428154496686076, 65.46762554009211, 46.53413616712588, 41.31051408760229], \"Total\": [188.0, 171.0, 152.0, 161.0, 118.0, 105.0, 111.0, 101.0, 258.0, 114.0, 89.0, 77.0, 305.0, 81.0, 83.0, 125.0, 72.0, 65.0, 69.0, 66.0, 77.0, 58.0, 62.0, 61.0, 60.0, 67.0, 50.0, 48.0, 54.0, 53.0, 171.13010430100593, 101.51949673163844, 111.18843821157981, 152.7647203428879, 89.91918544852474, 81.2174010608777, 66.7145871986034, 69.61556244095625, 61.88123020047194, 72.51781568864442, 60.91513034354411, 83.15500777019608, 49.313629276539075, 44.479151247031965, 40.6117303101656, 42.54572343220502, 53.1821622132157, 49.31455164466679, 36.74425922902489, 39.64523034366162, 45.44721869903109, 48.34811410859958, 54.14992650435463, 36.745689596436634, 29.010292017432306, 29.010304000751784, 29.010547820336907, 26.10953275993228, 29.97766326569546, 27.07679434380123, 114.11941128309337, 77.37198616079229, 67.70623455303907, 34.81450593914856, 34.81550684799447, 86.14528288265012, 39.65847055561391, 93.00101472300271, 62.93762731895274, 95.07367523684093, 98.01642902098966, 112.67057397507256, 185.82917407059603, 143.91392514348473, 62.050588096977165, 305.5511070271112, 98.23507594422767, 188.97707937898699, 105.7466167886136, 77.34799880619497, 58.744903285438596, 65.5980933443622, 118.46744616314038, 46.015800575151964, 50.91064342613075, 48.95184412627587, 46.01452804648916, 43.076764804965805, 39.16043205024675, 36.223361676663636, 34.26499321856232, 29.369597538011774, 29.369429498230026, 39.1591056575683, 41.116843824032856, 41.11677321873916, 28.38997473356074, 29.36847973201584, 23.49438500814314, 23.4943322085646, 25.452142236348916, 27.409954463891815, 30.346728832346958, 23.494123322854826, 25.451935660667967, 35.241111973517604, 62.65069468735841, 30.344812934410232, 161.43606878002223, 29.36612003676624, 27.40864829426696, 125.17161085881263, 258.8709932311027, 70.41160937418479, 305.5511070271112, 72.32964971906418, 96.71914455723255, 76.2231763639107, 102.55150833851599, 63.53794860345541, 60.607729333084706, 45.95438265646394, 54.714620462844366, 185.82917407059603, 107.15033643211514, 143.91392514348473, 98.23507594422767, 112.67057397507256], \"Category\": [\"Default\", \"Default\", \"Default\", \"Default\", \"Default\", \"Default\", \"Default\", \"Default\", \"Default\", \"Default\", \"Default\", \"Default\", \"Default\", \"Default\", \"Default\", \"Default\", \"Default\", \"Default\", \"Default\", \"Default\", \"Default\", \"Default\", \"Default\", \"Default\", \"Default\", \"Default\", \"Default\", \"Default\", \"Default\", \"Default\", \"Topic1\", \"Topic1\", \"Topic1\", \"Topic1\", \"Topic1\", \"Topic1\", \"Topic1\", \"Topic1\", \"Topic1\", \"Topic1\", \"Topic1\", \"Topic1\", \"Topic1\", \"Topic1\", \"Topic1\", \"Topic1\", \"Topic1\", \"Topic1\", \"Topic1\", \"Topic1\", \"Topic1\", \"Topic1\", \"Topic1\", \"Topic1\", \"Topic1\", \"Topic1\", \"Topic1\", \"Topic1\", \"Topic1\", \"Topic1\", \"Topic1\", \"Topic1\", \"Topic1\", \"Topic1\", \"Topic1\", \"Topic1\", \"Topic1\", \"Topic1\", \"Topic1\", \"Topic1\", \"Topic1\", \"Topic1\", \"Topic1\", \"Topic1\", \"Topic1\", \"Topic1\", \"Topic1\", \"Topic2\", \"Topic2\", \"Topic2\", \"Topic2\", \"Topic2\", \"Topic2\", \"Topic2\", \"Topic2\", \"Topic2\", \"Topic2\", \"Topic2\", \"Topic2\", \"Topic2\", \"Topic2\", \"Topic2\", \"Topic2\", \"Topic2\", \"Topic2\", \"Topic2\", \"Topic2\", \"Topic2\", \"Topic2\", \"Topic2\", \"Topic2\", \"Topic2\", \"Topic2\", \"Topic2\", \"Topic2\", \"Topic2\", \"Topic2\", \"Topic2\", \"Topic2\", \"Topic2\", \"Topic2\", \"Topic2\", \"Topic2\", \"Topic2\", \"Topic2\", \"Topic2\", \"Topic2\", \"Topic2\", \"Topic2\", \"Topic2\", \"Topic2\", \"Topic2\", \"Topic2\", \"Topic2\", \"Topic2\", \"Topic2\", \"Topic2\", \"Topic2\"], \"logprob\": [30.0, 29.0, 28.0, 27.0, 26.0, 25.0, 24.0, 23.0, 22.0, 21.0, 20.0, 19.0, 18.0, 17.0, 16.0, 15.0, 14.0, 13.0, 12.0, 11.0, 10.0, 9.0, 8.0, 7.0, 6.0, 5.0, 4.0, 3.0, 2.0, 1.0, -3.4415, -3.965, -3.8743, -3.5574, -4.088, -4.1898, -4.3869, -4.3447, -4.4634, -4.3056, -4.4802, -4.17, -4.6937, -4.7972, -4.8889, -4.8425, -4.6194, -4.6952, -4.9896, -4.9138, -4.7777, -4.7158, -4.6026, -4.9927, -5.2305, -5.2306, -5.2312, -5.3367, -5.1987, -5.3011, -3.8696, -4.2613, -4.4016, -5.0531, -5.0554, -4.2211, -4.9406, -4.2225, -4.5666, -4.3435, -4.3494, -4.3117, -4.044, -4.2171, -4.7056, -4.2884, -4.634, -3.2879, -3.8701, -4.1866, -4.4622, -4.3524, -3.7618, -4.7082, -4.6079, -4.6482, -4.7104, -4.7776, -4.8735, -4.9515, -5.0079, -5.1631, -5.1636, -4.8762, -4.8278, -4.828, -5.1989, -5.1662, -5.3907, -5.3909, -5.311, -5.237, -5.1353, -5.3916, -5.3117, -4.9863, -4.4112, -5.1404, -3.5076, -5.1727, -5.2409, -3.8053, -3.1749, -4.3774, -3.0772, -4.3969, -4.1507, -4.364, -4.1198, -4.5192, -4.563, -4.8208, -4.7121, -3.9982, -4.3762, -4.3445, -4.6859, -4.805], \"loglift\": [30.0, 29.0, 28.0, 27.0, 26.0, 25.0, 24.0, 23.0, 22.0, 21.0, 20.0, 19.0, 18.0, 17.0, 16.0, 15.0, 14.0, 13.0, 12.0, 11.0, 10.0, 9.0, 8.0, 7.0, 6.0, 5.0, 4.0, 3.0, 2.0, 1.0, 0.6624, 0.6611, 0.6608, 0.66, 0.6594, 0.6593, 0.659, 0.6586, 0.6576, 0.6568, 0.6566, 0.6556, 0.6544, 0.654, 0.6534, 0.6532, 0.6532, 0.6529, 0.6527, 0.6525, 0.652, 0.652, 0.652, 0.6496, 0.6481, 0.6481, 0.6474, 0.6473, 0.6471, 0.6465, 0.6394, 0.6364, 0.6295, 0.6431, 0.6408, 0.5691, 0.6254, 0.4912, 0.5375, 0.3481, 0.3118, 0.2101, -0.0226, 0.06, 0.4128, -0.7642, 0.0249, 0.7168, 0.7151, 0.7114, 0.7108, 0.7104, 0.7099, 0.7091, 0.7084, 0.7072, 0.7069, 0.7057, 0.7051, 0.7051, 0.7042, 0.7032, 0.7027, 0.7025, 0.702, 0.7019, 0.7014, 0.7002, 0.6988, 0.6986, 0.6985, 0.6983, 0.6983, 0.6979, 0.6978, 0.6978, 0.6975, 0.6933, 0.6546, 0.6938, 0.6945, 0.6113, 0.515, 0.6145, 0.447, 0.5681, 0.5238, 0.5486, 0.4962, 0.5754, 0.5789, 0.5979, 0.5321, 0.0233, 0.1959, -0.0675, -0.027, -0.2832]}, \"token.table\": {\"Topic\": [1, 2, 1, 2, 1, 2, 1, 2, 1, 2, 1, 2, 1, 2, 1, 2, 1, 2, 1, 2, 1, 2, 1, 2, 1, 2, 1, 2, 1, 2, 1, 2, 1, 2, 1, 2, 1, 2, 1, 2, 1, 2, 1, 2, 1, 2, 1, 2, 2, 1, 2, 1, 2, 1, 2, 1, 2, 1, 2, 1, 2, 1, 2, 1, 2, 1, 2, 1, 2, 1, 2, 1, 2, 1, 2, 1, 2, 1, 2, 1, 2, 1, 2, 1, 2, 1, 2, 1, 2, 1, 2, 1, 2, 1, 2, 1, 2, 1, 2, 1, 2, 1, 2, 1, 2, 1, 2, 1, 2, 1, 2, 1, 2, 1, 2, 1, 2, 1, 2, 1, 2, 1, 2, 1, 2, 1, 2, 1, 2, 1, 2, 1, 2, 1, 2, 1, 2, 1, 2, 1, 2, 1, 2, 1, 2, 1, 2, 1, 2, 1, 2, 1, 2, 2, 1, 2, 1, 2, 1, 2, 1, 2, 1, 2, 1, 2, 1, 2, 1, 2, 1, 2, 1, 2, 1, 2, 1, 2, 1, 2, 1, 2, 1, 2], \"Freq\": [0.0340528472521397, 0.9875325703120514, 0.023214371007841378, 0.9750035823293378, 0.036484834613648896, 0.9850905345685202, 0.10880355062928258, 0.8921891151601172, 0.976604409076716, 0.028723659090491648, 0.14164763260094534, 0.8656244214502214, 0.021732266796036355, 0.977952005821636, 0.529342492996317, 0.4784441763620557, 0.9927998410068768, 0.0206833300209766, 0.034050111177864516, 0.987453224158071, 0.993621524799956, 0.02027799030203992, 0.13199636561261072, 0.874475922183546, 0.9726653752589459, 0.026288253385376915, 0.9901596024612035, 0.022003546721360078, 0.1574324316098906, 0.8396396352527499, 0.02553684470591911, 0.9704000988249262, 0.04256383548592388, 0.9789682161762492, 0.9949941299197128, 0.00654601401262969, 0.9857593296445936, 0.01615998901056711, 0.9971638317732096, 0.036931993769378134, 0.9849371030120213, 0.024623427575300533, 0.9911576891808015, 0.01436460419102611, 0.005291647025587345, 0.9948296408104208, 0.09941542399351022, 0.894738815941592, 0.9874156417181604, 0.9892888912513821, 0.01498922562502094, 0.9936401096179656, 0.020278369584040112, 0.9948827885444339, 0.009850324639053802, 0.9849769615794461, 0.01641628269299077, 0.028375949111692705, 0.964782269797552, 0.9651743049391829, 0.034470510890685105, 0.9871732482566759, 0.023504124958492283, 0.9928594693079607, 0.013789714851499454, 0.7039636180300349, 0.29586876699813064, 0.019642258135098192, 0.9821129067549097, 0.012928582709756, 0.995500868651212, 0.41063800138300177, 0.5879589565256617, 0.03928942368441868, 0.9822355921104668, 0.9651661931172325, 0.034470221182758304, 0.032954561366434584, 0.9886368409930376, 0.9897776492976469, 0.011121097183119629, 0.9983052355567651, 0.008993740860871758, 0.02432093290719699, 0.9728373162878796, 0.015244345513983518, 0.9908824584089287, 0.008441137480273775, 0.9876130851920318, 0.017022753363658615, 0.9873196950921997, 0.23891256919426837, 0.7625565564693771, 0.035223701654720614, 0.9862636463321772, 0.9581811771261274, 0.05043058826979618, 0.6301556608357047, 0.36389270555301256, 0.032952480826667796, 0.988574424800034, 0.9777714526070561, 0.01880329716552031, 0.9693430881318867, 0.02584914901685031, 0.024320974670849056, 0.9728389868339623, 0.5004596316220484, 0.5004596316220484, 0.03928974256937736, 0.982243564234434, 0.03648309599774558, 0.9850435919391306, 0.9797448841086722, 0.02721513566968534, 0.021731665808287365, 0.9996566271812188, 0.9651747036250025, 0.03447052512946437, 0.9787640246517757, 0.01846724574814671, 0.025535979754178914, 0.9959032104129777, 0.5419906372662174, 0.4516588643885145, 0.9837248935604991, 0.025223715219499978, 0.1382558886824564, 0.8571865098312296, 0.1854205424906328, 0.8150778013650734, 0.993396227357998, 0.00584350721975293, 0.015961514951912878, 0.9736524120666856, 0.9797067464340377, 0.02721407628983438, 0.20477514509762587, 0.799598185619301, 0.8738810524469447, 0.12710997126501014, 0.009456567315046965, 0.9929395680799313, 0.9054471398771087, 0.0928663733207291, 0.8387005263578873, 0.16128856276113218, 0.027606493536579603, 0.9938337673168658, 0.16448985525014698, 0.8224492762507349, 0.04256345705520675, 0.9789595122697551, 0.9789573122270795, 0.7735623701903053, 0.22562235797217237, 0.9892275092127811, 0.02248244339119957, 0.9973232206640699, 0.012312632353877405, 0.9673869421698977, 0.033358170419651646, 0.020428239586243294, 0.9805555001396781, 0.03404901004496073, 0.987421291303861, 0.9861101838461971, 0.012025733949343866, 0.029184304623129816, 0.9922663571864138, 0.9765763327371623, 0.02872283331579889, 0.960029758398112, 0.02953937718148037, 0.9958048747582198, 0.038300187490700764, 0.17576664969302355, 0.8167979603381683, 0.06194402574077983, 0.9353547886857755, 0.1038574155178314, 0.894771579845932, 0.7257529471550563, 0.2734721250149488], \"Term\": [\"\\u4eba\\u6570\", \"\\u4eba\\u6570\", \"\\u4eba\\u6c11\", \"\\u4eba\\u6c11\", \"\\u4eba\\u7c7b\", \"\\u4eba\\u7c7b\", \"\\u4f20\\u64ad\", \"\\u4f20\\u64ad\", \"\\u514d\\u75ab\\u529b\", \"\\u514d\\u75ab\\u529b\", \"\\u5168\\u56fd\", \"\\u5168\\u56fd\", \"\\u5168\\u6c11\", \"\\u5168\\u6c11\", \"\\u5168\\u9762\", \"\\u5168\\u9762\", \"\\u516c\\u53f8\", \"\\u516c\\u53f8\", \"\\u51b2\\u51fb\", \"\\u51b2\\u51fb\", \"\\u533b\\u751f\", \"\\u533b\\u751f\", \"\\u533b\\u7597\", \"\\u533b\\u7597\", \"\\u533b\\u9662\", \"\\u533b\\u9662\", \"\\u5355\\u4f4d\", \"\\u5355\\u4f4d\", \"\\u539f\\u56e0\", \"\\u539f\\u56e0\", \"\\u53d1\\u5c55\", \"\\u53d1\\u5c55\", \"\\u53d8\\u5f02\", \"\\u53d8\\u5f02\", \"\\u53e3\\u7f69\", \"\\u53e3\\u7f69\", \"\\u540c\\u4e8b\", \"\\u540c\\u4e8b\", \"\\u5458\\u5de5\", \"\\u5458\\u5de5\", \"\\u55d3\\u5b50\", \"\\u55d3\\u5b50\", \"\\u56de\\u5bb6\", \"\\u56de\\u5bb6\", \"\\u56fd\\u5bb6\", \"\\u56fd\\u5bb6\", \"\\u57fa\\u672c\", \"\\u57fa\\u672c\", \"\\u5927\\u76d8\", \"\\u5988\\u5988\", \"\\u5988\\u5988\", \"\\u5b66\\u6821\", \"\\u5b66\\u6821\", \"\\u5b69\\u5b50\", \"\\u5b69\\u5b50\", \"\\u5bb6\\u4eba\", \"\\u5bb6\\u4eba\", \"\\u5bb6\\u5ead\", \"\\u5bb6\\u5ead\", \"\\u5c0f\\u5b69\", \"\\u5c0f\\u5b69\", \"\\u5c0f\\u65f6\", \"\\u5c0f\\u65f6\", \"\\u5c45\\u5bb6\", \"\\u5c45\\u5bb6\", \"\\u5de5\\u4f5c\", \"\\u5de5\\u4f5c\", \"\\u5e02\\u573a\", \"\\u5e02\\u573a\", \"\\u5f71\\u54cd\", \"\\u5f71\\u54cd\", \"\\u60c5\\u51b5\", \"\\u60c5\\u51b5\", \"\\u60c5\\u7eea\", \"\\u60c5\\u7eea\", \"\\u611f\\u5192\\u836f\", \"\\u611f\\u5192\\u836f\", \"\\u611f\\u67d3\\u8005\", \"\\u611f\\u67d3\\u8005\", \"\\u611f\\u89c9\", \"\\u611f\\u89c9\", \"\\u6297\\u539f\", \"\\u6297\\u539f\", \"\\u63aa\\u65bd\", \"\\u63aa\\u65bd\", \"\\u653f\\u5e9c\", \"\\u653f\\u5e9c\", \"\\u653f\\u7b56\", \"\\u653f\\u7b56\", \"\\u6570\\u636e\", \"\\u6570\\u636e\", \"\\u65b0\\u51a0\", \"\\u65b0\\u51a0\", \"\\u65b0\\u95fb\", \"\\u65b0\\u95fb\", \"\\u65e5\\u5b50\", \"\\u65e5\\u5b50\", \"\\u65f6\\u95f4\", \"\\u65f6\\u95f4\", \"\\u6708\\u4efd\", \"\\u6708\\u4efd\", \"\\u6709\\u70b9\", \"\\u6709\\u70b9\", \"\\u670b\\u53cb\", \"\\u670b\\u53cb\", \"\\u673a\\u4f1a\", \"\\u673a\\u4f1a\", \"\\u6838\\u9178\", \"\\u6838\\u9178\", \"\\u6bd2\\u6027\", \"\\u6bd2\\u6027\", \"\\u6c11\\u4f17\", \"\\u6c11\\u4f17\", \"\\u6d51\\u8eab\", \"\\u6d51\\u8eab\", \"\\u6d88\\u8d39\", \"\\u6d88\\u8d39\", \"\\u7238\\u7238\", \"\\u7238\\u7238\", \"\\u72b6\\u6001\", \"\\u72b6\\u6001\", \"\\u751f\\u547d\", \"\\u751f\\u547d\", \"\\u751f\\u6d3b\", \"\\u751f\\u6d3b\", \"\\u751f\\u75c5\", \"\\u751f\\u75c5\", \"\\u75ab\\u82d7\", \"\\u75ab\\u82d7\", \"\\u75c5\\u6bd2\", \"\\u75c5\\u6bd2\", \"\\u75c7\\u72b6\", \"\\u75c7\\u72b6\", \"\\u793e\\u4f1a\", \"\\u793e\\u4f1a\", \"\\u793e\\u533a\", \"\\u793e\\u533a\", \"\\u7ba1\\u63a7\", \"\\u7ba1\\u63a7\", \"\\u7ecf\\u5386\", \"\\u7ecf\\u5386\", \"\\u7ecf\\u6d4e\", \"\\u7ecf\\u6d4e\", \"\\u7ed3\\u679c\", \"\\u7ed3\\u679c\", \"\\u8001\\u4eba\", \"\\u8001\\u4eba\", \"\\u8001\\u5e74\\u4eba\", \"\\u8001\\u5e74\\u4eba\", \"\\u8001\\u767e\\u59d3\", \"\\u8001\\u767e\\u59d3\", \"\\u80a1\\u5e02\", \"\\u80a1\\u5e02\", \"\\u80a1\\u7968\", \"\\u836f\\u54c1\", \"\\u836f\\u54c1\", \"\\u836f\\u5e97\", \"\\u836f\\u5e97\", \"\\u89c6\\u9891\", \"\\u89c6\\u9891\", \"\\u8bd5\\u5242\", \"\\u8bd5\\u5242\", \"\\u8c03\\u6574\", \"\\u8c03\\u6574\", \"\\u8d70\\u52bf\", \"\\u8d70\\u52bf\", \"\\u8eab\\u4f53\", \"\\u8eab\\u4f53\", \"\\u8eba\\u5e73\", \"\\u8eba\\u5e73\", \"\\u8f7b\\u75c7\", \"\\u8f7b\\u75c7\", \"\\u9000\\u70e7\\u836f\", \"\\u9000\\u70e7\\u836f\", \"\\u9152\\u7cbe\", \"\\u9152\\u7cbe\", \"\\u95ee\\u9898\", \"\\u95ee\\u9898\", \"\\u9632\\u63a7\", \"\\u9632\\u63a7\", \"\\u9632\\u75ab\", \"\\u9632\\u75ab\", \"\\u9633\\u6027\", \"\\u9633\\u6027\"]}, \"R\": 30, \"lambda.step\": 0.01, \"plot.opts\": {\"xlab\": \"PC1\", \"ylab\": \"PC2\"}, \"topic.order\": [1, 2]};\n",
       "\n",
       "function LDAvis_load_lib(url, callback){\n",
       "  var s = document.createElement('script');\n",
       "  s.src = url;\n",
       "  s.async = true;\n",
       "  s.onreadystatechange = s.onload = callback;\n",
       "  s.onerror = function(){console.warn(\"failed to load library \" + url);};\n",
       "  document.getElementsByTagName(\"head\")[0].appendChild(s);\n",
       "}\n",
       "\n",
       "if(typeof(LDAvis) !== \"undefined\"){\n",
       "   // already loaded: just create the visualization\n",
       "   !function(LDAvis){\n",
       "       new LDAvis(\"#\" + \"ldavis_el1802819143534906243146200628\", ldavis_el1802819143534906243146200628_data);\n",
       "   }(LDAvis);\n",
       "}else if(typeof define === \"function\" && define.amd){\n",
       "   // require.js is available: use it to load d3/LDAvis\n",
       "   require.config({paths: {d3: \"https://d3js.org/d3.v5\"}});\n",
       "   require([\"d3\"], function(d3){\n",
       "      window.d3 = d3;\n",
       "      LDAvis_load_lib(\"https://cdn.jsdelivr.net/gh/bmabey/pyLDAvis@3.3.1/pyLDAvis/js/ldavis.v3.0.0.js\", function(){\n",
       "        new LDAvis(\"#\" + \"ldavis_el1802819143534906243146200628\", ldavis_el1802819143534906243146200628_data);\n",
       "      });\n",
       "    });\n",
       "}else{\n",
       "    // require.js not available: dynamically load d3 & LDAvis\n",
       "    LDAvis_load_lib(\"https://d3js.org/d3.v5.js\", function(){\n",
       "         LDAvis_load_lib(\"https://cdn.jsdelivr.net/gh/bmabey/pyLDAvis@3.3.1/pyLDAvis/js/ldavis.v3.0.0.js\", function(){\n",
       "                 new LDAvis(\"#\" + \"ldavis_el1802819143534906243146200628\", ldavis_el1802819143534906243146200628_data);\n",
       "            })\n",
       "         });\n",
       "}\n",
       "</script>"
      ],
      "text/plain": [
       "<IPython.core.display.HTML object>"
      ]
     },
     "execution_count": 14,
     "metadata": {},
     "output_type": "execute_result"
    }
   ],
   "source": [
    "pyLDAvis.enable_notebook()\n",
    "pic = pyLDAvis.sklearn.prepare(lda, tf, tf_vectorizer)\n",
    "pyLDAvis.display(pic)\n",
    "pyLDAvis.save_html(pic, 'lda_pass'+str(n_topics)+'.html')\n",
    "pyLDAvis.display(pic)\n",
    "#去工作路径下找保存好的html文件\n",
    "#和视频里讲的不一样，目前这个代码不需要手动中断运行，可以快速出结果"
   ]
  },
  {
   "cell_type": "markdown",
   "metadata": {},
   "source": [
    "### 2.4困惑度 "
   ]
  },
  {
   "cell_type": "code",
   "execution_count": 15,
   "metadata": {},
   "outputs": [],
   "source": [
    "import matplotlib.pyplot as plt"
   ]
  },
  {
   "cell_type": "code",
   "execution_count": 16,
   "metadata": {},
   "outputs": [
    {
     "name": "stdout",
     "output_type": "stream",
     "text": [
      "1\n",
      "2\n",
      "3\n",
      "4\n",
      "5\n",
      "6\n",
      "7\n",
      "8\n",
      "9\n",
      "10\n",
      "11\n",
      "12\n",
      "13\n",
      "14\n",
      "15\n"
     ]
    }
   ],
   "source": [
    "plexs = []\n",
    "scores = []\n",
    "n_max_topics = 16\n",
    "for i in range(1,n_max_topics):\n",
    "    print(i)\n",
    "    lda = LatentDirichletAllocation(n_components=i, max_iter=50,\n",
    "                                    learning_method='batch',\n",
    "                                    learning_offset=50,random_state=0)\n",
    "    lda.fit(tf)\n",
    "    plexs.append(lda.perplexity(tf))\n",
    "    scores.append(lda.score(tf))"
   ]
  },
  {
   "cell_type": "code",
   "execution_count": 17,
   "metadata": {},
   "outputs": [
    {
     "data": {
      "image/png": "[encoded data removed]",
      "text/plain": [
       "<Figure size 432x288 with 1 Axes>"
      ]
     },
     "metadata": {
      "needs_background": "light"
     },
     "output_type": "display_data"
    }
   ],
   "source": [
    "n_t=15#区间最右侧的值。注意：不能大于n_max_topics\n",
    "x=list(range(1,n_t+1))\n",
    "plt.plot(x,plexs[0:n_t])\n",
    "plt.xlabel(\"number of topics\")\n",
    "plt.ylabel(\"perplexity\")\n",
    "plt.show()"
   ]
  },
  {
   "cell_type": "code",
   "execution_count": null,
   "metadata": {},
   "outputs": [],
   "source": []
  },
  {
   "cell_type": "code",
   "execution_count": null,
   "metadata": {},
   "outputs": [],
   "source": []
  },
  {
   "cell_type": "code",
   "execution_count": null,
   "metadata": {},
   "outputs": [],
   "source": []
  },
  {
   "cell_type": "code",
   "execution_count": null,
   "metadata": {},
   "outputs": [],
   "source": []
  }
 ],
 "metadata": {
  "kernelspec": {
   "display_name": "Python 3 (ipykernel)",
   "language": "python",
   "name": "python3"
  },
  "language_info": {
   "codemirror_mode": {
    "name": "ipython",
    "version": 3
   },
   "file_extension": ".py",
   "mimetype": "text/x-python",
   "name": "python",
   "nbconvert_exporter": "python",
   "pygments_lexer": "ipython3",
   "version": "3.9.12"
  },
  "toc": {
   "base_numbering": 1,
   "nav_menu": {},
   "number_sections": true,
   "sideBar": true,
   "skip_h1_title": false,
   "title_cell": "Table of Contents",
   "title_sidebar": "Contents",
   "toc_cell": false,
   "toc_position": {
    "height": "303.324px",
    "left": "114px",
    "top": "110.322px",
    "width": "165px"
   },
   "toc_section_display": true,
   "toc_window_display": true
  }
 },
 "nbformat": 4,
 "nbformat_minor": 2
}
